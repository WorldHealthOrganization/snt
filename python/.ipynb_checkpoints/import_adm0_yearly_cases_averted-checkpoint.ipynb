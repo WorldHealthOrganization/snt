{
 "cells": [
  {
   "cell_type": "code",
   "execution_count": null,
   "id": "875bc1ac",
   "metadata": {},
   "outputs": [],
   "source": [
    "import psycopg\n",
    "import pandas as pd\n",
    "\n",
    "db_connection = \"dbname=malaria user=sepmein\"\n",
    "adm0_rainfall_path = ''\n"
   ]
  },
  {
   "cell_type": "code",
   "execution_count": null,
   "id": "2c53654b",
   "metadata": {},
   "outputs": [],
   "source": [
    "sql_insert_adm0_yearly_by_iso3 = \"\"\"\n",
    "insert into malaria\n",
    "                    (adm0_id, ts_year_id, indicator_id, value)\n",
    "                    WITH\n",
    "                      g AS (\n",
    "                        SELECT gid\n",
    "                        FROM adm0\n",
    "                        WHERE iso_3_code=%s\n",
    "                      ),\n",
    "                      t AS (\n",
    "                        SELECT id\n",
    "                        FROM ts_year\n",
    "                        WHERE year=%s\n",
    "                      ),\n",
    "                      ind as (\n",
    "                        select id\n",
    "                        from indicator\n",
    "                        where name=%s\n",
    "                      )\n",
    "                      select g.gid, t.id, ind.id, %s\n",
    "                      from g, t, ind;\n",
    "\"\"\""
   ]
  }
 ],
 "metadata": {
  "kernelspec": {
   "display_name": "Python 3 (ipykernel)",
   "language": "python",
   "name": "python3"
  },
  "language_info": {
   "codemirror_mode": {
    "name": "ipython",
    "version": 3
   },
   "file_extension": ".py",
   "mimetype": "text/x-python",
   "name": "python",
   "nbconvert_exporter": "python",
   "pygments_lexer": "ipython3",
   "version": "3.9.12"
  }
 },
 "nbformat": 4,
 "nbformat_minor": 5
}
