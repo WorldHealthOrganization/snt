{
 "cells": [
  {
   "cell_type": "markdown",
   "id": "500712bf",
   "metadata": {},
   "source": [
    "# Import package & Meta data about DB connection"
   ]
  },
  {
   "cell_type": "code",
   "execution_count": 2,
   "id": "dfd97aab",
   "metadata": {},
   "outputs": [],
   "source": [
    "import psycopg\n",
    "import pandas as pd\n",
    "\n",
    "db_connection = \"dbname=malaria user=sepmein\""
   ]
  },
  {
   "cell_type": "markdown",
   "id": "07c73c41",
   "metadata": {},
   "source": [
    "# Load SQL file"
   ]
  },
  {
   "cell_type": "code",
   "execution_count": 1,
   "id": "f76fcca8",
   "metadata": {},
   "outputs": [],
   "source": [
    "# sql path\n",
    "p_insert_into_adm0_year_with_iso = \"/Users/sepmein/x/snt/sql/insert/insert_adm0_year_by_iso.sql\"\n",
    "p_insert_into_adm1_year_with_iso_adm1 = \"/Users/sepmein/x/snt/sql/insert/insert_adm1_year_by_iso_adm1.sql\"\n",
    "\n",
    "# read sql function\n",
    "def read_sql(p_sql):\n",
    "    with open(p_sql,\"r\") as f:\n",
    "        result = f.read()\n",
    "    return(result)\n",
    "\n",
    "# load SQLs\n",
    "sql_insert_into_adm0_year_with_iso = read_sql(p_insert_into_adm0_year_with_iso)\n",
    "sql_insert_into_adm1_year_with_iso_adm1 = read_sql(p_insert_into_adm1_year_with_iso_adm1)"
   ]
  },
  {
   "cell_type": "markdown",
   "id": "8ea298e8",
   "metadata": {},
   "source": [
    "# Load files to be loaded"
   ]
  },
  {
   "cell_type": "code",
   "execution_count": 3,
   "id": "168dd06f",
   "metadata": {},
   "outputs": [],
   "source": [
    "# todo\n",
    "p_nga_adm1_year_incidence_wmr = '/Users/sepmein/Library/CloudStorage/OneDrive-WorldHealthOrganization/Data/clean/221103 - NGA incidences wmr - adm1 year.csv'\n",
    "# loaded\n",
    "p_adm0_cases_averted = '/Users/sepmein/Library/CloudStorage/OneDrive-WorldHealthOrganization/Data/clean/221031 - cases_averted.csv'\n",
    "p_adm0_deaths_averted = '/Users/sepmein/Library/CloudStorage/OneDrive-WorldHealthOrganization/Data/clean/221031 - deaths_averted.csv'\n",
    "p_adm0_iptp = '/Users/sepmein/Library/CloudStorage/OneDrive-WorldHealthOrganization/Data/clean/220101 - iptp_adm0.csv'"
   ]
  },
  {
   "cell_type": "markdown",
   "id": "0a027e9f",
   "metadata": {},
   "source": [
    "# Define Db executemany function"
   ]
  },
  {
   "cell_type": "code",
   "execution_count": 4,
   "id": "a3be8f2b",
   "metadata": {},
   "outputs": [],
   "source": [
    "def db_executemany(con, sql, df):\n",
    "    tuples = [tuple(x) for x in df.to_numpy()]\n",
    "    \n",
    "    # Connect to an existing database\n",
    "    with psycopg.connect(db_connection) as conn:\n",
    "\n",
    "        # Open a cursor to perform database operations\n",
    "        with conn.cursor() as cur:\n",
    "\n",
    "            # Pass data to fill a query placeholders and let Psycopg perform\n",
    "            # the correct conversion (no SQL injections!)\n",
    "            # cur.executemany(sql_insert_adm0_monthly, adm0_tuples)\n",
    "            cur.executemany(sql, tuples)\n",
    "            conn.commit()"
   ]
  },
  {
   "cell_type": "code",
   "execution_count": 17,
   "id": "db850c50",
   "metadata": {},
   "outputs": [],
   "source": [
    "df_nga_adm1_incidence = pd.read_csv(p_nga_adm1_year_incidence_wmr)\n",
    "\n",
    "db_executemany(\n",
    "    con = db_connection,\n",
    "    sql = sql_insert_into_adm1_year_with_iso_adm1,\n",
    "    df = df_nga_adm1_incidence\n",
    ")"
   ]
  }
 ],
 "metadata": {
  "kernelspec": {
   "display_name": "Python 3.9.12 ('base')",
   "language": "python",
   "name": "python3"
  },
  "language_info": {
   "codemirror_mode": {
    "name": "ipython",
    "version": 3
   },
   "file_extension": ".py",
   "mimetype": "text/x-python",
   "name": "python",
   "nbconvert_exporter": "python",
   "pygments_lexer": "ipython3",
   "version": "3.9.12"
  },
  "vscode": {
   "interpreter": {
    "hash": "e7cb1b9ae4d417fedf7f40a8eec98f7cfbd359e096bd857395a915f4609834ce"
   }
  }
 },
 "nbformat": 4,
 "nbformat_minor": 5
}
