{
 "cells": [
  {
   "cell_type": "code",
   "execution_count": 50,
   "id": "340d147a",
   "metadata": {},
   "outputs": [],
   "source": [
    "import pandas as pd\n",
    "import json\n",
    "from urllib.request import urlopen\n",
    "\n",
    "year_range_base = range(1985,2022)\n",
    "year_range = range(2014,2022)\n",
    "\n",
    "url = \"https://api.dhsprogram.com/rest/dhs/data/\"\n",
    "subnational_prefix = \",subnational\"\n",
    "csv_prefix = \"?f=csv\"\n",
    "page_prefix = \"&page=\""
   ]
  },
  {
   "cell_type": "code",
   "execution_count": null,
   "id": "f351e5dc",
   "metadata": {},
   "outputs": [
    {
     "name": "stdout",
     "output_type": "stream",
     "text": [
      "2014\n",
      "https://api.dhsprogram.com/rest/dhs/data/2014,subnational\n"
     ]
    }
   ],
   "source": [
    "for year in year_range:\n",
    "    print(year)\n",
    "    target_url = url + str(year) + subnational_prefix\n",
    "    target_url_csv = target_url + csv_prefix\n",
    "    print(target_url)\n",
    "    # store the response of URL\n",
    "    response = urlopen(target_url)\n",
    "    # storing the JSON response \n",
    "    # from url in data\n",
    "    data_json = json.loads(response.read())\n",
    "    total_pages = data_json['TotalPages']\n",
    "    print(total_pages)\n",
    "    for page in range(total_pages):\n",
    "        target_page_prefix = page_prefix + str(page + 1)\n",
    "        target_url_page = target_url_csv + target_page_prefix\n",
    "        print(target_url_page)\n",
    "        file_name = \"dhs_\" + str(year) + \"_\" + str(page + 1) + \".csv\"\n",
    "        df = pd.read_csv(target_url_page)\n",
    "        df.to_csv(file_name)"
   ]
  },
  {
   "cell_type": "code",
   "execution_count": null,
   "id": "741cd3e8",
   "metadata": {},
   "outputs": [],
   "source": []
  }
 ],
 "metadata": {
  "kernelspec": {
   "display_name": "Python 3 (ipykernel)",
   "language": "python",
   "name": "python3"
  },
  "language_info": {
   "codemirror_mode": {
    "name": "ipython",
    "version": 3
   },
   "file_extension": ".py",
   "mimetype": "text/x-python",
   "name": "python",
   "nbconvert_exporter": "python",
   "pygments_lexer": "ipython3",
   "version": "3.9.12"
  }
 },
 "nbformat": 4,
 "nbformat_minor": 5
}
